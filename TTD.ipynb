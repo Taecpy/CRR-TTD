{
 "cells": [
  {
   "cell_type": "code",
   "execution_count": 18,
   "metadata": {},
   "outputs": [],
   "source": [
    "import pandas as pd\n",
    "import numpy as np\n",
    "import os\n",
    "import glob\n"
   ]
  },
  {
   "cell_type": "markdown",
   "metadata": {},
   "source": [
    "### set directory"
   ]
  },
  {
   "cell_type": "code",
   "execution_count": 121,
   "metadata": {},
   "outputs": [],
   "source": [
    "###set dir\n",
    "input = 'Input\\\\'\n",
    "output = 'Output\\\\'\n",
    "mapping = 'mapping\\\\'\n",
    "backup = 'Input\\\\Backup\\\\'\n",
    "#os.mkdir(input)\n",
    "#os.mkdir(output)\n",
    "#os.mkdir(mapping)\n",
    "#os.mkdir(backup)"
   ]
  },
  {
   "cell_type": "markdown",
   "metadata": {},
   "source": [
    "### test before function"
   ]
  },
  {
   "cell_type": "code",
   "execution_count": 5,
   "metadata": {},
   "outputs": [],
   "source": [
    "PATH = glob.glob(\"input/*.csv\")[0]\n",
    "df = pd.read_csv(PATH)"
   ]
  },
  {
   "cell_type": "code",
   "execution_count": 55,
   "metadata": {},
   "outputs": [],
   "source": [
    "PATH = glob.glob(\"input/*.csv\")[-1]\n",
    "df = pd.read_csv(PATH)\n",
    "df.rename(columns={\"CUST_ID\":\"Customer Number\"},inplace=True)\n",
    "data = df.dropna(subset=['Customer Number'])\n",
    "data.iloc[:,6]  = data.iloc[:,6].replace('2564','2565')"
   ]
  },
  {
   "cell_type": "code",
   "execution_count": 84,
   "metadata": {},
   "outputs": [],
   "source": [
    "PATH = glob.glob(\"mapping/*.xlsb\")"
   ]
  },
  {
   "cell_type": "code",
   "execution_count": 111,
   "metadata": {},
   "outputs": [
    {
     "name": "stdout",
     "output_type": "stream",
     "text": [
      "20220131\n",
      "20220228\n",
      "20220331\n",
      "20220430\n",
      "20220531\n",
      "20220630\n",
      "20220731\n",
      "20220831\n",
      "20220930\n",
      "20221031\n",
      "20221130\n",
      "20221231\n"
     ]
    }
   ],
   "source": [
    "for x in PATH:\n",
    "    print(x[17:25])"
   ]
  },
  {
   "cell_type": "markdown",
   "metadata": {},
   "source": [
    "### function"
   ]
  },
  {
   "cell_type": "code",
   "execution_count": 150,
   "metadata": {},
   "outputs": [],
   "source": [
    "### import lastfile and initial clean data\n",
    "def import_data():\n",
    "    PATH = glob.glob(\"input/*.csv\")[-1]\n",
    "    df = pd.read_csv(PATH)\n",
    "    df.rename(columns={\"CUST_ID\":\"Customer Number\"},inplace=True)\n",
    "    #df = df[df['Customer Number'].str.contains(r'[0-9]')]\n",
    "    df = df.dropna(subset=['Customer Number'])\n",
    "    return df\n",
    "\n",
    "### change data actual to review\n",
    "def replace_date(df,actual,review):\n",
    "    #data.iloc[:,6] = data.iloc[:,6].astype(str)\n",
    "    df.iloc[:,6] = df.iloc[:,6].str.replace(actual,review)\n",
    "    return df\n",
    "\n",
    "### prepare mapping data\n",
    "def mapping():\n",
    "    list_mapping = glob.glob(\"mapping/*.xlsb\")[0:1]\n",
    "    for file in list_mapping:\n",
    "     mapping.append(pd.read_excel(file,engine='pyxlsb',index_col='Account Number',\n",
    "                                  usecols=['Customer Number','Account Number','จำนวนวันที่ค้างชำระ','PF/NPF Flag']\n",
    "                                  ))\n",
    "     #mapping.rename(columns={\"Customer Number\": \"Customer Number_{file[17:25]}\", \"จำนวนวันที่ค้างชำระ\": \"จำนวนวันที่ค้างชำระ_{file[17:25]}\",\n",
    "      #                       'PF/NPF Flag':'PF/NPF Flag_{file[17:25]}'},inplace = True)\n",
    "     print(f\"Read CSV file mapping {file[17:25]} done!\")\n",
    "    return mapping"
   ]
  },
  {
   "cell_type": "code",
   "execution_count": null,
   "metadata": {},
   "outputs": [],
   "source": [
    "def mapping_grade(data):\n",
    "        for file in file_list_grade:\n",
    "          df = pd.read_csv(file, encoding = \"UTF-8\",low_memory=False)\n",
    "          mapping = df.loc[:,[\"Account Number\",\"GRADE\"]]\n",
    "          mapping.rename(columns={\"Account Number\":\"ACC_ID\"},inplace=True)\n",
    "          mapping.set_index(\"ACC_ID\",inplace=True)\n",
    "          data = data.merge(mapping,on=\"ACC_ID\",how=\"left\")\n",
    "          data.rename(columns={\"GRADE\":\"GRADE{}\".format(file[21:28])},inplace=True)\n",
    "          print(f\"mapping GRADE CSV file {file} done!\")\n",
    "        return data"
   ]
  },
  {
   "cell_type": "code",
   "execution_count": 164,
   "metadata": {},
   "outputs": [],
   "source": [
    "list_mapping = glob.glob(\"mapping/*.xlsb\")[0:2]\n",
    "mapping = []\n",
    "for file in list_mapping:\n",
    "     mapping.append(pd.read_excel(file,engine='pyxlsb',index_col='Account Number',\n",
    "                                  usecols=['Customer Number','Account Number','จำนวนวันที่ค้างชำระ','PF/NPF Flag']\n",
    "                                  ))\n",
    "pd.merge(mapping)"
   ]
  }
 ],
 "metadata": {
  "kernelspec": {
   "display_name": "base",
   "language": "python",
   "name": "python3"
  },
  "language_info": {
   "codemirror_mode": {
    "name": "ipython",
    "version": 3
   },
   "file_extension": ".py",
   "mimetype": "text/x-python",
   "name": "python",
   "nbconvert_exporter": "python",
   "pygments_lexer": "ipython3",
   "version": "3.8.5"
  },
  "orig_nbformat": 4
 },
 "nbformat": 4,
 "nbformat_minor": 2
}
